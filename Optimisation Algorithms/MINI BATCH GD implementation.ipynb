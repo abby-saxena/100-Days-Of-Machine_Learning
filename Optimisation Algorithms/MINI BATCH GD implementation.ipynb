{
 "cells": [
  {
   "cell_type": "code",
   "execution_count": 23,
   "metadata": {},
   "outputs": [],
   "source": [
    "import numpy as np \n",
    "import matplotlib.pyplot as plt \n",
    "from sklearn.datasets import load_boston\n",
    "from sklearn.datasets import make_regression"
   ]
  },
  {
   "cell_type": "code",
   "execution_count": 24,
   "metadata": {},
   "outputs": [],
   "source": [
    "# creating the data set\n",
    "\n",
    "X,y = make_regression(n_samples=10000, n_features=20, n_informative=20, noise=10, random_state=1)\n",
    "\n",
    "# Normalisation\n",
    "u = np.mean(X,axis=0)\n",
    "std = np.std(X,axis=0)\n",
    "\n",
    "X = (X-u)/std"
   ]
  },
  {
   "cell_type": "code",
   "execution_count": 25,
   "metadata": {},
   "outputs": [
    {
     "name": "stdout",
     "output_type": "stream",
     "text": [
      "(10000, 21)\n",
      "(10000,)\n"
     ]
    }
   ],
   "source": [
    "# add a column of ones for vectorisation\n",
    "\n",
    "ones = np.ones((X.shape[0],1))\n",
    "X = np.hstack((ones,X))\n",
    "\n",
    "print(X.shape)\n",
    "print(y.shape)"
   ]
  },
  {
   "cell_type": "code",
   "execution_count": 26,
   "metadata": {},
   "outputs": [
    {
     "data": {
      "text/plain": [
       "' def hypothesis(X,theta):\\n    return np.dot(X,theta)\\n\\ndef error(X,y,theta):\\n    e= 0.0\\n    m= X.shape[0]\\n    y_= hypothesis(X,theta)\\n    \\n    e = np.sum((y-y_)**2)\\n    \\n    return e/m\\n\\ndef gradient(X,y,theta):\\n          \\n    y_= hypothesis(X,theta)\\n    \\n    grad = np.dot(X.T,(y_ - y))\\n    \\n    m = X.shape[0]\\n    \\n    return grad/m\\n    \\n\\ndef gradient_descent(X,y,learning_rate=0.1,max_epochs=300):\\n    \\n    n = X.shape[1]\\n    theta = np.zeros((n,))\\n    error_list = []\\n    \\n    for i in range(max_epochs):\\n        e = error(X,y,theta)\\n        error_list.append(e)\\n        \\n        # Gradient Descent --> batch gradient descent\\n        grad = gradient(X,y,theta)\\n        theta = theta - learning_rate*grad\\n        \\n    return theta,error_list\\n'"
      ]
     },
     "execution_count": 26,
     "metadata": {},
     "output_type": "execute_result"
    }
   ],
   "source": [
    "\n",
    "\"\"\" def hypothesis(X,theta):\n",
    "    return np.dot(X,theta)\n",
    "\n",
    "def error(X,y,theta):\n",
    "    e= 0.0\n",
    "    m= X.shape[0]\n",
    "    y_= hypothesis(X,theta)\n",
    "    \n",
    "    e = np.sum((y-y_)**2)\n",
    "    \n",
    "    return e/m\n",
    "\n",
    "def gradient(X,y,theta):\n",
    "          \n",
    "    y_= hypothesis(X,theta)\n",
    "    \n",
    "    grad = np.dot(X.T,(y_ - y))\n",
    "    \n",
    "    m = X.shape[0]\n",
    "    \n",
    "    return grad/m\n",
    "    \n",
    "\n",
    "def gradient_descent(X,y,learning_rate=0.1,max_epochs=300):\n",
    "    \n",
    "    n = X.shape[1]\n",
    "    theta = np.zeros((n,))\n",
    "    error_list = []\n",
    "    \n",
    "    for i in range(max_epochs):\n",
    "        e = error(X,y,theta)\n",
    "        error_list.append(e)\n",
    "        \n",
    "        # Gradient Descent --> batch gradient descent\n",
    "        grad = gradient(X,y,theta)\n",
    "        theta = theta - learning_rate*grad\n",
    "        \n",
    "    return theta,error_list\n",
    "\"\"\" "
   ]
  },
  {
   "cell_type": "code",
   "execution_count": 27,
   "metadata": {},
   "outputs": [],
   "source": [
    "def hypothesis(X,theta):\n",
    "    return np.dot(X,theta)\n",
    "\n",
    "def error(X,y,theta):\n",
    "    e= 0.0\n",
    "    m= X.shape[0]\n",
    "    y_= hypothesis(X,theta)\n",
    "    \n",
    "    e = np.sum((y-y_)**2)\n",
    "    \n",
    "    return e/m\n",
    "\n",
    "def gradient(X,y,theta):\n",
    "          \n",
    "    y_= hypothesis(X,theta)\n",
    "    \n",
    "    grad = np.dot(X.T,(y_ - y))\n",
    "    \n",
    "    m = X.shape[0]\n",
    "    \n",
    "    return grad/m\n",
    "\n",
    "def batch_gradient_descent(X,y,batch_size=200,learning_rate=0.01,max_epochs=100):\n",
    "    n = X.shape[1]\n",
    "    theta = np.zeros((n,))\n",
    "    error_list = []\n",
    "    \n",
    "    data = np.hstack((X,y.reshape(-1,1)))\n",
    "    \n",
    "    for i in range(max_epochs):\n",
    "        e = error(X,y,theta)\n",
    "        error_list.append(e)\n",
    "        \n",
    "        # Mini batch Gradient Descent\n",
    "        np.random.shuffle(data)\n",
    "        m=data.shape[0]\n",
    "        total_batches = m//batch_size         #if batch size=1 it becomes stochastic gd\n",
    "        \n",
    "        for i in range(total_batches):\n",
    "            batch_data = data[i*batch_size : (i+1)*batch_size, : ]\n",
    "            x_batch = batch_data[:,:-1]\n",
    "            y_batch = batch_data[:,-1]\n",
    "            \n",
    "            batch_gradient = gradient(x_batch,y_batch,theta)\n",
    "            theta = learning_rate*batch_gradient\n",
    "            \n",
    "    return theta,error_list\n",
    "    "
   ]
  },
  {
   "cell_type": "code",
   "execution_count": 28,
   "metadata": {},
   "outputs": [],
   "source": [
    "theta,error_list = batch_gradient_descent(X,y)"
   ]
  },
  {
   "cell_type": "code",
   "execution_count": 29,
   "metadata": {},
   "outputs": [
    {
     "data": {
      "image/png": "[encoded data removed]",
      "text/plain": [
       "<Figure size 432x288 with 1 Axes>"
      ]
     },
     "metadata": {
      "needs_background": "light"
     },
     "output_type": "display_data"
    }
   ],
   "source": [
    "plt.figure()\n",
    "plt.plot(np.arange(len(error_list)), error_list)\n",
    "plt.show()"
   ]
  },
  {
   "cell_type": "code",
   "execution_count": null,
   "metadata": {},
   "outputs": [],
   "source": []
  }
 ],
 "metadata": {
  "kernelspec": {
   "display_name": "Python 3",
   "language": "python",
   "name": "python3"
  },
  "language_info": {
   "codemirror_mode": {
    "name": "ipython",
    "version": 3
   },
   "file_extension": ".py",
   "mimetype": "text/x-python",
   "name": "python",
   "nbconvert_exporter": "python",
   "pygments_lexer": "ipython3",
   "version": "3.7.6"
  }
 },
 "nbformat": 4,
 "nbformat_minor": 4
}
